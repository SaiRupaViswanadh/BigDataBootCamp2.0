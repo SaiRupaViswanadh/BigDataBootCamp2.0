{
 "cells": [
  {
   "cell_type": "markdown",
   "metadata": {},
   "source": [
    "## Python OOP Assignment Solved"
   ]
  },
  {
   "cell_type": "markdown",
   "metadata": {},
   "source": [
    "Q1.) What is the purpose of Python's OOP?"
   ]
  },
  {
   "cell_type": "markdown",
   "metadata": {},
   "source": [
    "Ans:) Python is a multi-paradigm programming language. It supports different programming approaches.\n",
    "One of the popular approaches to solve a programming problem is by creating objects. \n",
    "This is known as Object-Oriented Programming (OOP). The main concept of OOPs is to bind the data and the functions that work on that together as a single unit\n",
    "so that no other part of the code can access this data.\n",
    "\n",
    "An object has two characteristics:\n",
    "1) attributes\n",
    "2) behavior\n",
    "\n",
    "A parrot is an object, as it has the following properties:\n",
    "1) name, age, color as attributes\n",
    "2) singing, dancing as behavior\n",
    "The concept of OOP in Python focuses on creating reusable code. \n",
    "This concept is also known as DRY (Don't Repeat Yourself).\n",
    "\n",
    "OOP is about code reuse — you factor code to minimize redundancy and program by customizing what already exists instead of changing code in place or starting from scratch."
   ]
  },
  {
   "cell_type": "markdown",
   "metadata": {},
   "source": [
    "Q2.) Where does an inheritance search look for an attribute?"
   ]
  },
  {
   "cell_type": "markdown",
   "metadata": {},
   "source": [
    "Ans:) An inheritance search looks for an attribute first in the instance object, then in the class the instance was created from, \n",
    "then in all higher superclasses, progressing from left to right (by default). The search stops at the first place the attribute is found."
   ]
  },
  {
   "cell_type": "markdown",
   "metadata": {},
   "source": [
    "Q3.) How do you distinguish between a class object and an instance object?"
   ]
  },
  {
   "cell_type": "markdown",
   "metadata": {},
   "source": [
    "Ans:) Class variables are declared inside a class but outside of any function.\n",
    "Classes are a kind of factory for creating multiple instances. Classes also support operator overloading methods, which instances inherit, and \n",
    "treat any functions nested in the class as methods for processing instances.\n",
    "\n",
    "Instance variables are declared inside the constructor which is the __init__method.\n",
    "\n",
    "Example:"
   ]
  },
  {
   "cell_type": "code",
   "execution_count": 1,
   "metadata": {},
   "outputs": [
    {
     "name": "stdout",
     "output_type": "stream",
     "text": [
      "John Doe\n",
      "15\n",
      "17\n",
      "15\n"
     ]
    }
   ],
   "source": [
    "class Book():\n",
    "   fontsize = 9\n",
    "   page_width = 15\n",
    "   def __init__(self, name, writer, length):\n",
    "      self.name = name\n",
    "      self.writer = writer\n",
    "      self.length = length\n",
    "\n",
    "#create an instance of the Book class\n",
    "book1 = Book(\"Intro to Python\", \"John Doe\", 50000)\n",
    "print(book1.writer)\n",
    "print(book1.page_width)\n",
    "\n",
    "#We can change the value of class variables for any instance (i.e. override them). \n",
    "book1.page_width = 17\n",
    "print(book1.page_width)\n",
    "print(Book.page_width)\n"
   ]
  },
  {
   "cell_type": "markdown",
   "metadata": {},
   "source": [
    "The name, writer, and length variables are declared in the __init__ method so they are instance variables. The values of these variables are determined when creating an instance.\n",
    "\n",
    "It makes sense because fontsize and page_width are usually standart. However, the name, writer, and lenght are specific to each book (i.e. instance).\n",
    "\n",
    "It saves us a lot of time and effort to declare the fontsize and page_width as class variables. Assume the publishing company makes a decision to change the fontsize used in the books. If it was an instance variable, we would need to change it for each instance (i.e. book). However, since it is a class variable, one assignment will do the job for every book."
   ]
  },
  {
   "cell_type": "markdown",
   "metadata": {},
   "source": [
    "Q4.) What makes the first argument in a class’s method function special?"
   ]
  },
  {
   "cell_type": "markdown",
   "metadata": {},
   "source": [
    "Ans:) It always receives the instance object that is the implied subject of the method call. It’s usually called 'self' by convention."
   ]
  },
  {
   "cell_type": "markdown",
   "metadata": {},
   "source": [
    "Q5.) What is the purpose of the init method?"
   ]
  },
  {
   "cell_type": "markdown",
   "metadata": {},
   "source": [
    "Ans:) The __init__ method is the Python equivalent of the C++ constructor in an object-oriented approach. \n",
    "The __init__  function is called every time an object is created from a class. \n",
    "The __init__ method lets the class initialize the object’s attributes and serves no other purpose. It is only used within classes. "
   ]
  },
  {
   "cell_type": "code",
   "execution_count": 9,
   "metadata": {},
   "outputs": [
    {
     "name": "stdout",
     "output_type": "stream",
     "text": [
      "Hello, my name is Sai Rupa\n"
     ]
    }
   ],
   "source": [
    "# A Sample class with init method\n",
    "class Person:\n",
    " \n",
    "    # init method or constructor\n",
    "    def __init__(self, name):\n",
    "        self.name = name\n",
    " \n",
    "    # Sample Method\n",
    "    def say_hi(self):\n",
    "        print('Hello, my name is', self.name)\n",
    " \n",
    " \n",
    "p = Person('Sai Rupa')\n",
    "p.say_hi()"
   ]
  },
  {
   "cell_type": "markdown",
   "metadata": {},
   "source": [
    "Q6.) What is the process for creating a class instance?"
   ]
  },
  {
   "cell_type": "markdown",
   "metadata": {},
   "source": [
    "Ans:) You create a class instance by calling the class name as though it were a function; any arguments passed into the class name show up as arguments two and beyond in the __init__ constructor method.\n",
    "x = ClassName()\n",
    "y = AnotherClass(arg1, arg2)"
   ]
  },
  {
   "cell_type": "markdown",
   "metadata": {},
   "source": [
    "Q7.) What is the process for creating a class?"
   ]
  },
  {
   "cell_type": "code",
   "execution_count": 10,
   "metadata": {},
   "outputs": [
    {
     "name": "stdout",
     "output_type": "stream",
     "text": [
      "Hello, my name is Sai Rupa\n",
      "Hello, my name is Divyanvitha\n",
      "Hello, my name is LakshmiN\n"
     ]
    }
   ],
   "source": [
    "#Ans:)\n",
    "# Create class\n",
    "class Person:\n",
    " \n",
    "    # init method or constructor\n",
    "    def __init__(self, name):\n",
    "        self.name = name\n",
    " \n",
    "    #Method\n",
    "    def say_hi(self):\n",
    "        print('Hello, my name is', self.name)\n",
    " \n",
    " \n",
    "# Creating different objects\n",
    "p1 = Person('Sai Rupa')\n",
    "p2 = Person('Divyanvitha')\n",
    "p3 = Person('LakshmiN')\n",
    " \n",
    "p1.say_hi()\n",
    "p2.say_hi()\n",
    "p3.say_hi()"
   ]
  },
  {
   "cell_type": "markdown",
   "metadata": {},
   "source": [
    "Q8.) How would you define the superclasses of a class?"
   ]
  },
  {
   "cell_type": "markdown",
   "metadata": {},
   "source": [
    "Ans:) Superclasses are classes which are used to inherit from.\n",
    "\n",
    "class Son(Mother, Father): ...\n",
    "\n",
    "In this case Mother and Father are superclasses for Son subclass."
   ]
  },
  {
   "cell_type": "markdown",
   "metadata": {},
   "source": [
    "Q9.) What is the relationship between classes and modules?"
   ]
  },
  {
   "cell_type": "markdown",
   "metadata": {},
   "source": [
    "Ans:) In python world, module is a python file (.py) inside a package. Package is a folder that has __init__.py in its root. It is a way to organize your codes physically (in files and folders).\n",
    "\n",
    "On the other hand, class is an abstraction that gathers data (characteristics) and method (behavior) definitions to represent a specific type of objects. It is a way to organize your codes logically.\n",
    "\n",
    "A module can have zero or one or multiple classes. A class can be implemented in one or more .py files (modules).\n",
    "\n",
    "But often, we can organize a set of variables and functions into a class definition or just simply put them in a .py file and call it a module."
   ]
  },
  {
   "cell_type": "markdown",
   "metadata": {},
   "source": [
    "Q10.) How do you make instances and classes?"
   ]
  },
  {
   "cell_type": "markdown",
   "metadata": {},
   "source": [
    "Ans:) Class is the most fundamental piece of Python because it serves as the essence of object oriented programming.\n",
    "\n",
    "Everything in Python is an object such as integers, lists, dictionaries, functions and so on. Every object has a type and the object types are created using classes.\n",
    "\n",
    "Instance is an object that belongs to a class. For instance, list is a class in Python. When we create a list, we have an instance of the list class.\n",
    "\n",
    "Class variables are declared inside a class but outside of any function. Instance variables are declared inside the constructor which is the __init__method."
   ]
  },
  {
   "cell_type": "code",
   "execution_count": 11,
   "metadata": {},
   "outputs": [
    {
     "name": "stdout",
     "output_type": "stream",
     "text": [
      "Name :  Zara , Salary:  2000\n",
      "Name :  Manni , Salary:  5000\n",
      "Total Employee 2\n"
     ]
    }
   ],
   "source": [
    "class Employee:\n",
    "   'Common base class for all employees'\n",
    "   empCount = 0\n",
    "   def __init__(self, name, salary):\n",
    "      self.name = name\n",
    "      self.salary = salary\n",
    "      Employee.empCount += 1\n",
    "   def displayCount(self):\n",
    "      print(\"Total Employee %d\" % Employee.empCount)\n",
    "   def displayEmployee(self):\n",
    "      print(\"Name : \", self.name, \", Salary: \", self.salary)\n",
    "#To create instances of a class, you call the class using class name and pass in whatever arguments its __init__ method accepts.\n",
    "\"This would create first object of Employee class\"\n",
    "emp1 = Employee(\"Zara\", 2000)\n",
    "\"This would create second object of Employee class\"\n",
    "emp2 = Employee(\"Manni\", 5000)\n",
    "#You access the object's attributes using the dot operator with object. Class variable would be accessed using class name as follows −\n",
    "emp1.displayEmployee()\n",
    "emp2.displayEmployee()\n",
    "print(\"Total Employee %d\" % Employee.empCount)"
   ]
  },
  {
   "cell_type": "markdown",
   "metadata": {},
   "source": [
    "Q11.) Where and how should be class attributes created?"
   ]
  },
  {
   "cell_type": "markdown",
   "metadata": {},
   "source": [
    "Ans:) To create a class in Python, we use the class keyword followed by the name of the \"class\"."
   ]
  },
  {
   "cell_type": "code",
   "execution_count": 286,
   "metadata": {},
   "outputs": [
    {
     "name": "stdout",
     "output_type": "stream",
     "text": [
      "SaiRupa\n"
     ]
    }
   ],
   "source": [
    "#Class creation\n",
    "class Student:\n",
    "    name = \"SaiRupa\"\n",
    "    course = \"Python\"\n",
    "#new objects from this class\n",
    "Student1 = Student()\n",
    "print(Student1.name)\n",
    "# Jane"
   ]
  },
  {
   "cell_type": "markdown",
   "metadata": {},
   "source": [
    "To give a basic definition of both terms, class attributes are class variables that are inherited by every object of a class. The value of class attributes remain the same for every new object.\n",
    "Class attributes are defined outside the __init__() function.\n",
    "class attributes remain the same for every object and are defined outside the __init__() function."
   ]
  },
  {
   "cell_type": "code",
   "execution_count": 295,
   "metadata": {},
   "outputs": [
    {
     "name": "stdout",
     "output_type": "stream",
     "text": [
      "Divya\n",
      "SaiRupa\n",
      "MySchool\n",
      "MySchool\n"
     ]
    }
   ],
   "source": [
    "class Student:\n",
    "    school = \"MySchool\"\n",
    "    \n",
    "    def __init__(self, name, course):\n",
    "        self.name = name\n",
    "        self.course = course\n",
    "    \n",
    "Student1 = Student(\"Divya\", \"Coding\")\n",
    "Student2 = Student(\"SaiRupa\", \"Python\")\n",
    "\n",
    "print(Student1.name) \n",
    "print(Student2.name)\n",
    "\n",
    "#Both gave us the same value because the school variable is a class attribute.\n",
    "print(Student1.school) \n",
    "print(Student2.school)"
   ]
  },
  {
   "cell_type": "markdown",
   "metadata": {},
   "source": [
    "we created a variable in the Student class called school.\n",
    "We created two more variables but in the __init__() function – name and course – which we initialized using the self parameter.\n",
    "The first parameter in an __init__() function is used to initialize other parameters when creating variables in the function. You can call it whatever you want – by convention, self is mostly used.\n",
    "The school variable acts as a class attribute.  "
   ]
  },
  {
   "cell_type": "markdown",
   "metadata": {},
   "source": [
    "Q12.) Where and how are instance attributes created?"
   ]
  },
  {
   "cell_type": "markdown",
   "metadata": {},
   "source": [
    "Ans:) Instance attributes, which are defined in the __init__() function, are class variables that allow us to define different values for each object of a class.\n",
    "Instance attributes are defined in the __init__() function, are class variables that allow us to define different values for each object of a class."
   ]
  },
  {
   "cell_type": "code",
   "execution_count": 296,
   "metadata": {},
   "outputs": [
    {
     "name": "stdout",
     "output_type": "stream",
     "text": [
      "Divya\n",
      "SaiRupa\n"
     ]
    }
   ],
   "source": [
    "class Student:\n",
    "    school = \"MySchool\"\n",
    "    \n",
    "    def __init__(self, name, course):\n",
    "        self.name = name\n",
    "        self.course = course\n",
    "    \n",
    "Student1 = Student(\"Divya\", \"Coding\")\n",
    "Student2 = Student(\"SaiRupa\", \"Python\")\n",
    "\n",
    "print(Student1.name) \n",
    "print(Student2.name)"
   ]
  },
  {
   "cell_type": "markdown",
   "metadata": {},
   "source": [
    "The school variable acts as a class attribute while name and course are instance attributes.\n",
    "We created two objects from the Student class – Student1 and Student2. Each of these objects, by default, will have all the variables created in the class. But each object is able to have its own name and course variable because they were created in the __init__() function."
   ]
  },
  {
   "cell_type": "markdown",
   "metadata": {},
   "source": [
    "Q13.) What does the term \"self\" in a Python class mean?"
   ]
  },
  {
   "cell_type": "markdown",
   "metadata": {},
   "source": [
    "Ans:) The self parameter is a reference to the current instance of the class, and is used to access variables that belongs to the class.\n",
    "It does not have to be named self , you can call it whatever you like, but it has to be the first parameter of any function in the class:"
   ]
  },
  {
   "cell_type": "code",
   "execution_count": 300,
   "metadata": {},
   "outputs": [
    {
     "name": "stdout",
     "output_type": "stream",
     "text": [
      "Hello my name is John\n"
     ]
    }
   ],
   "source": [
    "#use of mysillyobject instead of self\n",
    "class Person:\n",
    "  def __init__(mysillyobject, name, age):\n",
    "    mysillyobject.name = name\n",
    "    mysillyobject.age = age\n",
    "\n",
    "  def myfunc(abc):\n",
    "    print(\"Hello my name is \" + abc.name)\n",
    "\n",
    "p1 = Person(\"John\", 36)\n",
    "p1.myfunc()"
   ]
  },
  {
   "cell_type": "markdown",
   "metadata": {},
   "source": [
    "Q14.) How does a Python class handle operator overloading?"
   ]
  },
  {
   "cell_type": "markdown",
   "metadata": {},
   "source": [
    "Ans:) Operator Overloading means giving extended meaning beyond their predefined operational meaning. For example operator + is used to add two integers as well as join two strings and merge two lists. It is achievable because ‘+’ operator is overloaded by int class and str class. You might have noticed that the same built-in operator or function shows different behavior for objects of different classes, this is called Operator Overloading. \n",
    "Consider that we have two objects which are a physical representation of a class (user-defined data type) and we have to add two objects with binary ‘+’ operator it throws an error, because compiler don’t know how to add two objects. So we define a method for an operator and that process is called operator overloading. We can overload all existing operators but we can’t create a new operator. To perform operator overloading, Python provides some special function or magic function that is automatically invoked when it is associated with that particular operator. For example, when we use + operator, the magic method __add__ is automatically invoked in which the operation for + operator is defined.\n",
    "Whenever you change the behavior of the existing operator through operator overloading, you have to redefine the special function that is invoked automatically when the operator is used with the objects. "
   ]
  },
  {
   "cell_type": "code",
   "execution_count": 302,
   "metadata": {},
   "outputs": [
    {
     "name": "stdout",
     "output_type": "stream",
     "text": [
      "3\n",
      "AAAFor\n",
      "3\n",
      "AAAFor\n",
      "3\n",
      "AAAFor\n"
     ]
    }
   ],
   "source": [
    "# Python Program illustrate how\n",
    "# to overload an binary + operator\n",
    "# And how it actually works\n",
    " \n",
    "class A:\n",
    "    def __init__(self, a):\n",
    "        self.a = a\n",
    " \n",
    "    # adding two objects\n",
    "    def __add__(self, o):\n",
    "        return self.a + o.a\n",
    "ob1 = A(1)\n",
    "ob2 = A(2)\n",
    "ob3 = A(\"AAA\")\n",
    "ob4 = A(\"For\")\n",
    " \n",
    "print(ob1 + ob2)\n",
    "print(ob3 + ob4)\n",
    "# Actual working when Binary Operator is used.\n",
    "print(A.__add__(ob1 , ob2))\n",
    "print(A.__add__(ob3,ob4))\n",
    "#And can also be Understand as :\n",
    "print(ob1.__add__(ob2))\n",
    "print(ob3.__add__(ob4))"
   ]
  },
  {
   "cell_type": "markdown",
   "metadata": {},
   "source": [
    "Here, We defined the special function “__add__( )”  and when the objects ob1 and ob2 are coded as “ob1 + ob2“, the special function is automatically called as ob1.__add__(ob2) which simply means that ob1 calls the __add__( ) function with ob2 as an Argument and It actually means A .__add__(ob1, ob2). Hence, when the Binary operator is overloaded, the object before the operator calls the respective function with object after operator as parameter."
   ]
  },
  {
   "cell_type": "markdown",
   "metadata": {},
   "source": [
    "Q15.) When do you consider allowing operator overloading of your classes?"
   ]
  },
  {
   "cell_type": "markdown",
   "metadata": {},
   "source": [
    "Ans:) The operator overloading in Python means provide extended meaning beyond their predefined operational meaning. Such as, we use the \"+\" operator for adding two integers as well as joining two strings or merging two lists.\n",
    "This feature in Python that allows the same operator to have different meaning according to the context is called operator overloading."
   ]
  },
  {
   "cell_type": "markdown",
   "metadata": {},
   "source": [
    "Q16.) What is the most popular form of operator overloading?"
   ]
  },
  {
   "cell_type": "markdown",
   "metadata": {},
   "source": [
    "Ans:) A very popular and convenient example is the Addition (+) operator.\n",
    "Just think how the ‘+’ operator operates on two numbers and the same operator operates on two strings. It performs “Addition” on numbers whereas it performs “Concatenation” on strings.\n",
    "Operators in Python work for built-in classes, like int, str, list, etc. But you can extend their operability such that they work on objects of user-defined classes too."
   ]
  },
  {
   "cell_type": "markdown",
   "metadata": {},
   "source": [
    "Q17.) What are the two most important concepts to grasp in order to comprehend Python OOP code?"
   ]
  },
  {
   "cell_type": "markdown",
   "metadata": {},
   "source": [
    "Ans:) Both inheritance and polymorphism are key ingredients for designing robust, flexible, and easy-to-maintain software.  \n",
    "Object oriented programming (OOP) paradigm is built around the idea of having objects that belong to a particular type. In a sense, the type is what explains us the object.\n",
    "Everything in Python is an object and every object has a type. These types are declared and defined using classes. Thus, classes can be considered as the heart of OOP.\n",
    "In order to develop robust and well-designed software products with Python, it is essential to obtain a comprehensive understanding of OOP."
   ]
  },
  {
   "cell_type": "markdown",
   "metadata": {},
   "source": [
    "Q18.) Describe three applications for exception processing."
   ]
  },
  {
   "cell_type": "markdown",
   "metadata": {},
   "source": [
    "Ans:) Exceptions are raised when the program is syntactically correct, but the code resulted in an error. This error does not stop the execution of the program, however, it changes the normal flow of the program.\n",
    ">> KeyError: Raised when the specified key is not found in the dictionary.\n",
    ">> NameError: Raised when an identifier is not found in the local or global namespace.\n",
    ">> UnboundLocalError: Raised when trying to access a local variable in a function or method but no value has been assigned to it."
   ]
  },
  {
   "cell_type": "markdown",
   "metadata": {},
   "source": [
    "Q19.) What happens if you don't do something extra to treat an exception?"
   ]
  },
  {
   "cell_type": "markdown",
   "metadata": {},
   "source": [
    "Ans:) Each and every exception has to be handled by the programmer to avoid the program from crashing abruptly. This is done by writing additional code in\n",
    "a program to give proper messages or instructions to the user on encountering an exception. This process is known as exception handling."
   ]
  },
  {
   "cell_type": "markdown",
   "metadata": {},
   "source": [
    "Q20.) What are your options for recovering from an exception in your script?"
   ]
  },
  {
   "cell_type": "markdown",
   "metadata": {},
   "source": [
    "Ans:) Here are some essential rules of Python exception handling:\n",
    "\n",
    ">> Exceptions must be class objects\n",
    ">> For class exceptions, you can use try statement with an except clause which mentions a particular class.\n",
    ">> Even if a statement or expression is syntactically correct, it may display an error when an attempt is made to execute it.\n",
    ">> Errors found during execution are called exceptions, and they are not unconditionally fatal.  \n",
    "\n",
    "If you have some suspicious code that may raise an exception, you can defend your program by placing the suspicious code in a try: block. After the try: block, include an except: statement, followed by a block of code which handles the problem as elegantly as possible.\n",
    "\n",
    "Syntax:\n",
    "Here is simple syntax of try....except...else blocks −\n",
    "\n",
    "try:\n",
    "   You do your operations here;\n",
    "   ......................\n",
    "except ExceptionI:\n",
    "   If there is ExceptionI, then execute this block.\n",
    "except ExceptionII:\n",
    "   If there is ExceptionII, then execute this block.\n",
    "   ......................\n",
    "else:\n",
    "   If there is no exception then execute this block. \n",
    "Here are few important points about the above-mentioned syntax −\n",
    "\n",
    "A single try statement can have multiple except statements. This is useful when the try block contains statements that may throw different types of exceptions.\n",
    "You can also provide a generic except clause, which handles any exception.\n",
    "After the except clause(s), you can include an else-clause. The code in the else-block executes if the code in the try: block does not raise an exception.\n",
    "The else-block is a good place for code that does not need the try: block's protection."
   ]
  },
  {
   "cell_type": "markdown",
   "metadata": {},
   "source": [
    "Q21.) Describe two methods for triggering exceptions in your script."
   ]
  },
  {
   "cell_type": "markdown",
   "metadata": {},
   "source": [
    "Ans:) An unhandled exception displays an error message and the program suddenly crashes. To avoid such a scenario, there are two methods to handle Python exceptions:\n",
    "\n",
    "Try – This method catches the exceptions raised by the program\n",
    "Raise – Triggers an exception manually using custom exceptions"
   ]
  },
  {
   "cell_type": "markdown",
   "metadata": {},
   "source": [
    "Q22.) Identify two methods for specifying actions to be executed at termination time, regardless of  \n",
    "whether or not an exception exists."
   ]
  },
  {
   "cell_type": "code",
   "execution_count": 313,
   "metadata": {},
   "outputs": [
    {
     "name": "stdout",
     "output_type": "stream",
     "text": [
      "Hello\n",
      "Nothing went wrong\n"
     ]
    }
   ],
   "source": [
    "#Ans:) #No error\n",
    "#The try block does not raise any errors, so the else block is executed:\n",
    "\n",
    "try:\n",
    "  print(\"Hello\")\n",
    "except:\n",
    "  print(\"Something went wrong\")\n",
    "else:\n",
    "  print(\"Nothing went wrong\")\n"
   ]
  },
  {
   "cell_type": "code",
   "execution_count": 317,
   "metadata": {},
   "outputs": [
    {
     "name": "stdout",
     "output_type": "stream",
     "text": [
      "Something went wrong\n",
      "The 'try except' is finished\n"
     ]
    }
   ],
   "source": [
    "#with error\n",
    "try:\n",
    "  print(Idontknow)\n",
    "except:\n",
    "  print(\"Something went wrong\")\n",
    "finally:\n",
    "  print(\"The 'try except' is finished\")"
   ]
  },
  {
   "cell_type": "markdown",
   "metadata": {},
   "source": [
    "Q23.) What is the purpose of the try statement?"
   ]
  },
  {
   "cell_type": "markdown",
   "metadata": {},
   "source": [
    "Ans:) The try block lets you test a block of code for errors.\n",
    "\n",
    "The except block lets you handle the error.\n",
    "\n",
    "The else block lets you execute code when there is no error.\n",
    "\n",
    "The finally block lets you execute code, regardless of the result of the try- and except blocks."
   ]
  },
  {
   "cell_type": "markdown",
   "metadata": {},
   "source": [
    "Q24.) What are the two most popular try statement variations?"
   ]
  },
  {
   "cell_type": "markdown",
   "metadata": {},
   "source": [
    "Ans:) The try block lets you test a block of code for errors.\n",
    "\n",
    "The except block lets you handle the error.\n",
    "\n",
    "The else block lets you execute code when there is no error.\n",
    "\n",
    "The finally block lets you execute code, regardless of the result of the try- and except blocks."
   ]
  },
  {
   "cell_type": "code",
   "execution_count": 318,
   "metadata": {},
   "outputs": [
    {
     "name": "stdout",
     "output_type": "stream",
     "text": [
      "An exception occurred\n"
     ]
    }
   ],
   "source": [
    "# 1\n",
    "try:\n",
    "  print(Idontknow)\n",
    "except:\n",
    "  print(\"An exception occurred\")"
   ]
  },
  {
   "cell_type": "code",
   "execution_count": 319,
   "metadata": {},
   "outputs": [
    {
     "name": "stdout",
     "output_type": "stream",
     "text": [
      "Something went wrong\n",
      "The 'try except' is finished\n"
     ]
    }
   ],
   "source": [
    "#2\n",
    "#The finally block gets executed no matter if the try block raises any errors or not:\n",
    "\n",
    "try:\n",
    "  print(Idontknow)\n",
    "except:\n",
    "  print(\"Something went wrong\")\n",
    "finally:\n",
    "  print(\"The 'try except' is finished\")"
   ]
  },
  {
   "cell_type": "markdown",
   "metadata": {},
   "source": [
    "Q25.) What is the purpose of the raise statement?"
   ]
  },
  {
   "cell_type": "markdown",
   "metadata": {},
   "source": [
    "Ans:) The raise statement can be used to throw an exception.\n",
    "The syntax of raise statement is:\n",
    "raise exception-name[(optional argument)]\n",
    "The argument is generally a string that is displayed when the exception is raised."
   ]
  },
  {
   "cell_type": "code",
   "execution_count": 320,
   "metadata": {},
   "outputs": [
    {
     "ename": "TypeError",
     "evalue": "Only integers are allowed",
     "output_type": "error",
     "traceback": [
      "\u001b[1;31m---------------------------------------------------------------------------\u001b[0m",
      "\u001b[1;31mTypeError\u001b[0m                                 Traceback (most recent call last)",
      "Cell \u001b[1;32mIn [320], line 4\u001b[0m\n\u001b[0;32m      1\u001b[0m x \u001b[39m=\u001b[39m \u001b[39m\"\u001b[39m\u001b[39mhello\u001b[39m\u001b[39m\"\u001b[39m\n\u001b[0;32m      3\u001b[0m \u001b[39mif\u001b[39;00m \u001b[39mnot\u001b[39;00m \u001b[39mtype\u001b[39m(x) \u001b[39mis\u001b[39;00m \u001b[39mint\u001b[39m:\n\u001b[1;32m----> 4\u001b[0m   \u001b[39mraise\u001b[39;00m \u001b[39mTypeError\u001b[39;00m(\u001b[39m\"\u001b[39m\u001b[39mOnly integers are allowed\u001b[39m\u001b[39m\"\u001b[39m)\n",
      "\u001b[1;31mTypeError\u001b[0m: Only integers are allowed"
     ]
    }
   ],
   "source": [
    "x = \"hello\"\n",
    "\n",
    "if not type(x) is int:\n",
    "  raise TypeError(\"Only integers are allowed\")"
   ]
  },
  {
   "cell_type": "markdown",
   "metadata": {},
   "source": [
    "Q26.) What does the assert statement do, and what other statement is it like?"
   ]
  },
  {
   "cell_type": "markdown",
   "metadata": {},
   "source": [
    "Ans:) The assert keyword is used when debugging code.\n",
    "The assert keyword lets you test if a condition in your code returns True, if not, the program will raise an AssertionError."
   ]
  },
  {
   "cell_type": "code",
   "execution_count": null,
   "metadata": {},
   "outputs": [
    {
     "ename": "AssertionError",
     "evalue": "",
     "output_type": "error",
     "traceback": [
      "\u001b[1;31m---------------------------------------------------------------------------\u001b[0m",
      "\u001b[1;31mAssertionError\u001b[0m                            Traceback (most recent call last)",
      "Cell \u001b[1;32mIn [303], line 7\u001b[0m\n\u001b[0;32m      4\u001b[0m \u001b[39massert\u001b[39;00m x \u001b[39m==\u001b[39m \u001b[39m\"\u001b[39m\u001b[39mhello\u001b[39m\u001b[39m\"\u001b[39m\n\u001b[0;32m      6\u001b[0m \u001b[39m#if condition returns False, AssertionError is raised:\u001b[39;00m\n\u001b[1;32m----> 7\u001b[0m \u001b[39massert\u001b[39;00m x \u001b[39m==\u001b[39m \u001b[39m\"\u001b[39m\u001b[39mgoodbye\u001b[39m\u001b[39m\"\u001b[39m\n",
      "\u001b[1;31mAssertionError\u001b[0m: "
     ]
    }
   ],
   "source": [
    "x = \"hello\"\n",
    "\n",
    "#if condition returns True, then nothing happens:\n",
    "assert x == \"hello\"\n",
    "\n",
    "#if condition returns False, AssertionError is raised:\n",
    "assert x == \"goodbye\""
   ]
  },
  {
   "cell_type": "markdown",
   "metadata": {},
   "source": [
    "Q27.) What is the purpose of the with/as argument, and what other statement is it like?"
   ]
  },
  {
   "cell_type": "markdown",
   "metadata": {},
   "source": [
    "Ans:) In Python, with statement is used in exception handling to make the code cleaner and much more readable. It simplifies the management of common resources like file streams."
   ]
  },
  {
   "cell_type": "code",
   "execution_count": null,
   "metadata": {},
   "outputs": [
    {
     "name": "stdout",
     "output_type": "stream",
     "text": [
      "hello world !\n",
      "hello world\n",
      "hello world !!!!!!!!\n"
     ]
    }
   ],
   "source": [
    "# file handling\n",
    "\n",
    "# 1) without using with statement\n",
    "file = open('file_path', 'w')\n",
    "file.write('hello world !')\n",
    "file.close()\n",
    "#print(file)\n",
    "f = open(\"file_path\", \"r\")\n",
    "print(f.read())\n",
    " \n",
    "# 2) without using with statement\n",
    "file = open('file_path', 'w')\n",
    "try:\n",
    "    file.write('hello world')\n",
    "finally:\n",
    "    file.close()\n",
    "f = open(\"file_path\", \"r\")\n",
    "print(f.read())\n",
    "\n",
    "#3) using with statement\n",
    "with open('file_path', 'w') as file:\n",
    "    file.write('hello world !!!!!!!!')\n",
    "f = open(\"file_path\", \"r\")\n",
    "print(f.read())"
   ]
  },
  {
   "cell_type": "code",
   "execution_count": null,
   "metadata": {},
   "outputs": [
    {
     "name": "stdout",
     "output_type": "stream",
     "text": [
      "hello world, I am from Earth\n"
     ]
    }
   ],
   "source": [
    "# a simple file writer object\n",
    " \n",
    "class MessageWriter(object):\n",
    "    def __init__(self, file_name):\n",
    "        self.file_name = file_name\n",
    "     \n",
    "    def __enter__(self):\n",
    "        self.file = open(self.file_name, 'w')\n",
    "        return self.file\n",
    " \n",
    "    def __exit__(self, *args):\n",
    "        self.file.close()\n",
    " \n",
    "# using with statement with MessageWriter\n",
    " \n",
    "with MessageWriter('my_file.txt') as xfile:\n",
    "    xfile.write('hello world, I am from Earth')\n",
    "\n",
    "f = open(\"my_file.txt\", \"r\")\n",
    "print(f.read())"
   ]
  },
  {
   "cell_type": "markdown",
   "metadata": {},
   "source": [
    "Q28.) What are *args, **kwargs?"
   ]
  },
  {
   "cell_type": "markdown",
   "metadata": {},
   "source": [
    "Ans:) Special Symbols Used for passing arguments:-\n",
    "\n",
    "1) *args (Non-Keyword Arguments):\n",
    ">> The special syntax *args in function definitions in python is used to pass a variable number of arguments to a function. It is used to pass a non-key worded, variable-length argument list. \n",
    ">> The syntax is to use the symbol * to take in a variable number of arguments; by convention, it is often used with the word args.\n",
    ">> What *args allows you to do is take in more arguments than the number of formal arguments that you previously defined. With *args, any number of extra arguments can be tacked on to your current formal parameters (including zero extra arguments).\n",
    ">> For example, we want to make a multiply function that takes any number of arguments and is able to multiply them all together. It can be done using *args.\n",
    ">> Using the *, the variable that we associate with the * becomes an iterable meaning you can do things like iterate over it, run some higher-order functions such as map and filter, etc."
   ]
  },
  {
   "cell_type": "code",
   "execution_count": null,
   "metadata": {},
   "outputs": [
    {
     "name": "stdout",
     "output_type": "stream",
     "text": [
      "Hello\n",
      "Everyone\n",
      "Welcome\n",
      "to\n",
      "World\n"
     ]
    }
   ],
   "source": [
    "#*args for a variable number of arguments\n",
    "def myFun(*argv):\n",
    "    for arg in argv:\n",
    "        print(arg)\n",
    "myFun('Hello', 'Everyone', 'Welcome', 'to', 'World')"
   ]
  },
  {
   "cell_type": "code",
   "execution_count": null,
   "metadata": {},
   "outputs": [
    {
     "name": "stdout",
     "output_type": "stream",
     "text": [
      "First argument : Hello\n",
      "Next argument through *argv : Everyone\n",
      "Next argument through *argv : Welcome\n",
      "Next argument through *argv : to\n",
      "Next argument through *argv : World\n"
     ]
    }
   ],
   "source": [
    "#*args with a first extra argument\n",
    "def myFun(arg1, *argv):\n",
    "    print(\"First argument :\", arg1)\n",
    "    for arg in argv:\n",
    "        print(\"Next argument through *argv :\", arg)\n",
    "myFun('Hello', 'Everyone', 'Welcome', 'to', 'World')"
   ]
  },
  {
   "cell_type": "markdown",
   "metadata": {},
   "source": [
    "2) **kwargs (Keyword Arguments):\n",
    "The special syntax **kwargs in function definitions in python is used to pass a keyworded, variable-length argument list. We use the name kwargs with the double star. The reason is that the double star allows us to pass through keyword arguments (and any number of them).\n",
    ">> A keyword argument is where you provide a name to the variable as you pass it into the function.\n",
    ">> One can think of the kwargs as being a dictionary that maps each keyword to the value that we pass alongside it. That is why when we iterate over the kwargs there doesn’t seem to be any order in which they were printed out."
   ]
  },
  {
   "cell_type": "code",
   "execution_count": null,
   "metadata": {},
   "outputs": [
    {
     "name": "stdout",
     "output_type": "stream",
     "text": [
      "first == Hello\n",
      "mid == my\n",
      "last == Friends\n"
     ]
    }
   ],
   "source": [
    "def myFun(**kwargs):\n",
    "    for key, value in kwargs.items():\n",
    "        print(\"%s == %s\" % (key, value)) \n",
    "# Driver code\n",
    "myFun(first='Hello', mid='my', last='Friends')"
   ]
  },
  {
   "cell_type": "code",
   "execution_count": null,
   "metadata": {},
   "outputs": [
    {
     "name": "stdout",
     "output_type": "stream",
     "text": [
      "first == Hi\n",
      "mid == my\n",
      "last == Friends\n"
     ]
    }
   ],
   "source": [
    "def myFun(arg1, **kwargs):\n",
    "    for key, value in kwargs.items():\n",
    "        print(\"%s == %s\" % (key, value))\n",
    "# Driver code\n",
    "myFun(\"Hey\", first='Hi', mid='my', last='Friends')"
   ]
  },
  {
   "cell_type": "markdown",
   "metadata": {},
   "source": [
    "Q29.) How can I pass optional or keyword parameters from one function to another?"
   ]
  },
  {
   "cell_type": "markdown",
   "metadata": {},
   "source": [
    "Ans:) In Python, when we define functions with default values for certain parameters, it is said to have its arguments set as an option for the user. Users can either pass their values or can pretend the function to use theirs default values which are specified.\n",
    "In this way, the user can call the function by either passing those optional parameters or just passing the required parameters. \n",
    "There are two main ways to pass optional parameters in python \n",
    ">> Without using keyword arguments.\n",
    ">> By using keyword arguments.\n",
    "\n",
    "1) Passing without using keyword arguments:\n",
    "Some main point to be taken care while passing without using keyword arguments is :\n",
    ">> The order of parameters should be maintained i.e. the order in which parameters are defined in function should be maintained while calling the function.\n",
    ">> The values for the non-optional parameters should be passed otherwise it will throw an error.\n",
    ">> The value of the default arguments can be either passed or ignored."
   ]
  },
  {
   "cell_type": "code",
   "execution_count": null,
   "metadata": {},
   "outputs": [
    {
     "name": "stdout",
     "output_type": "stream",
     "text": [
      "4\n",
      "1099\n"
     ]
    }
   ],
   "source": [
    " # Here b is predefined and hence is optional.\n",
    "def func(a, b=1098):\n",
    "    return a+b \n",
    "print(func(2, 2)) \n",
    "# this 1 is represented as 'a' in the function and\n",
    "# function uses the default value of b\n",
    "print(func(1))"
   ]
  },
  {
   "cell_type": "markdown",
   "metadata": {},
   "source": [
    "2) Passing with keyword arguments:\n",
    "When functions are defined then the parameters are written in the form “datatype keyword-name”. So python provides a mechanism to call the function using the keyword name for passing the values. This helps the programmer by relieving them not to learn the sequence or the order in which the parameters are to be passed.\n",
    "Some important points we need to remember are as follows:\n",
    ">> In this case, we are not required to maintain the order of passing the values.\n",
    ">> There should be no difference between the passed and declared keyword names."
   ]
  },
  {
   "cell_type": "code",
   "execution_count": null,
   "metadata": {},
   "outputs": [
    {
     "name": "stdout",
     "output_type": "stream",
     "text": [
      "ManHey\n"
     ]
    },
    {
     "ename": "TypeError",
     "evalue": "fun2() missing 1 required positional argument: 'string1'",
     "output_type": "error",
     "traceback": [
      "\u001b[1;31m---------------------------------------------------------------------------\u001b[0m",
      "\u001b[1;31mTypeError\u001b[0m                                 Traceback (most recent call last)",
      "Cell \u001b[1;32mIn [208], line 11\u001b[0m\n\u001b[0;32m      7\u001b[0m fun2(string2\u001b[39m=\u001b[39m\u001b[39m'\u001b[39m\u001b[39mHey\u001b[39m\u001b[39m'\u001b[39m, string1\u001b[39m=\u001b[39m\u001b[39m\"\u001b[39m\u001b[39mMan\u001b[39m\u001b[39m\"\u001b[39m)\n\u001b[0;32m      9\u001b[0m \u001b[39m# since we are not mentioning the non-default argument\u001b[39;00m\n\u001b[0;32m     10\u001b[0m \u001b[39m# so it will give error.\u001b[39;00m\n\u001b[1;32m---> 11\u001b[0m fun2(string2\u001b[39m=\u001b[39;49m\u001b[39m'\u001b[39;49m\u001b[39mHey\u001b[39;49m\u001b[39m'\u001b[39;49m)\n",
      "\u001b[1;31mTypeError\u001b[0m: fun2() missing 1 required positional argument: 'string1'"
     ]
    }
   ],
   "source": [
    "# Here string2 is the default string used\n",
    "def fun2(string1, string2=\"Man\"):\n",
    "    print(string1 + string2)\n",
    " \n",
    " \n",
    "# Thiscan be a way where no order is needed.\n",
    "fun2(string2='Hey', string1=\"Man\")\n",
    " \n",
    "# since we are not mentioning the non-default argument\n",
    "# so it will give error.\n",
    "fun2(string2='Hey')\n",
    "\n",
    "#As we can see that we don’t require any order to be maintained in the above example. \n",
    "# Also, we can see that when we try to pass only the optional parameters then it raises an error. This happens since optional parameters can be omitted as they have a default with them, but we cannot omit required parameters (string1 in the above case.)\n",
    "#  Hence, it shows an error with the flag: “missing 1 required argument”."
   ]
  },
  {
   "cell_type": "code",
   "execution_count": null,
   "metadata": {},
   "outputs": [
    {
     "name": "stdout",
     "output_type": "stream",
     "text": [
      "first call\n",
      "2 type is <class 'int'>\n",
      "z type is <class 'str'>\n",
      "2.0 type is <class 'float'>\n",
      "second call\n",
      "2 type is <class 'int'>\n",
      "1 type is <class 'int'>\n",
      "Sam type is <class 'str'>\n",
      "third call\n",
      "Mas type is <class 'str'>\n",
      "3 type is <class 'int'>\n",
      "2 type is <class 'int'>\n"
     ]
    }
   ],
   "source": [
    "def func(a, b, c='Sam'):\n",
    "    print(a, \"type is\", type(a))\n",
    "    print(b, \"type is\", type(b))\n",
    "    print(c, \"type is\", type(c))\n",
    " \n",
    " \n",
    "# The optional parameters will not decide\n",
    "# the type of parameter passed.\n",
    "# also the order is maintained\n",
    "print(\"first call\")\n",
    "func(2, 'z', 2.0)\n",
    " \n",
    "# below call uses the default\n",
    "# mentioned value of c\n",
    "print(\"second call\")\n",
    "func(2, 1)\n",
    " \n",
    "# The below call (in comments) will give an error\n",
    "# since other required parameter is not passed.\n",
    "# func('a')\n",
    "print(\"third call\")\n",
    "func(c=2, b=3, a='Mas')\n",
    "\n",
    "#So basically python functional calls checks only if the required number of functional parameters are passed or not."
   ]
  },
  {
   "cell_type": "code",
   "execution_count": null,
   "metadata": {},
   "outputs": [
    {
     "name": "stdout",
     "output_type": "stream",
     "text": [
      "first call\n",
      "first parameter is smaller\n",
      "second call\n",
      "second parameter is smaller\n",
      "third call\n",
      "first parameter is smaller\n",
      "fourth call\n",
      "first parameter is smaller\n"
     ]
    }
   ],
   "source": [
    "def comp(a, b=2):\n",
    "    if(a < b):\n",
    "        print(\"first parameter is smaller\")\n",
    "    if(a > b):\n",
    "        print(\"second parameter is smaller\")\n",
    "    if(a == b):\n",
    "        print(\"both are of equal value.\")\n",
    " \n",
    " \n",
    "print(\"first call\")\n",
    "comp(1)\n",
    "print(\"second call\")\n",
    "comp(2, 1)\n",
    "print(\"third call\")\n",
    "comp(b=1, a=-1)\n",
    "print(\"fourth call\")\n",
    "comp(-1, b=0)\n",
    "\n",
    "#So one thing we should remember that the keyword argument should used after all positional arguments are passed. \n",
    "# Hence this is an important thing we must keep in mind while passing parameters in both ways to same function."
   ]
  },
  {
   "cell_type": "markdown",
   "metadata": {},
   "source": [
    "Q30.) What are Lambda Functions?"
   ]
  },
  {
   "cell_type": "markdown",
   "metadata": {},
   "source": [
    "Ans:) Python Lambda Functions are anonymous function means that the function is without a name.\n",
    "Syntax: lambda arguments: expression\n",
    ">> This function can have any number of arguments but only one expression, which is evaluated and returned.\n",
    ">> One is free to use lambda functions wherever function objects are required.\n",
    ">> You need to keep in your knowledge that lambda functions are syntactically restricted to a single expression.\n",
    ">> It has various uses in particular fields of programming, besides other types of expressions in functions."
   ]
  },
  {
   "cell_type": "code",
   "execution_count": null,
   "metadata": {},
   "outputs": [
    {
     "name": "stdout",
     "output_type": "stream",
     "text": [
      "Result after adding 5 = 12\n",
      "Result after adding Sai = SaiRupa\n"
     ]
    }
   ],
   "source": [
    "#add 5 function\n",
    "y = 7\n",
    "lambda_add_five=lambda x:x+5\n",
    "print(\"Result after adding 5 =\", lambda_add_five(y))\n",
    "\n",
    "z='Rupa'\n",
    "lambda_add_name=lambda x:'Sai'+ x\n",
    "print(\"Result after adding Sai =\", lambda_add_name(z))"
   ]
  },
  {
   "cell_type": "markdown",
   "metadata": {},
   "source": [
    "Q31.) Explain Inheritance in Python with an example?"
   ]
  },
  {
   "cell_type": "markdown",
   "metadata": {},
   "source": [
    "Ans:) Inheritance relationship defines the classes that inherit from other classes as derived, subclass, or sub-type classes. \n",
    "Base class remains to be the source from which a subclass inherits. For example, you have a Base class of “Animal,” and a “Lion” is a \n",
    "Derived class. The inheritance will be Lion is an Animal.  \n",
    "\n",
    "Advantages of Inheritance in Python:\n",
    "1. Inheritance in Python helps developers to reuse the objects.\n",
    "2. Each time a class inherits the base class, it gets access to the parent object’s functionality. \n",
    "3. Reusability due to inheritance is also reliable as the base class is already tested. \n",
    "4. Low development time and cost.\n",
    "5. Standardization of the interface across classes becomes easy.\n",
    "6. Reduces redundancy of code and help improve extensibility.\n",
    "7. The creation of class libraries becomes easy."
   ]
  },
  {
   "cell_type": "code",
   "execution_count": null,
   "metadata": {},
   "outputs": [
    {
     "name": "stdout",
     "output_type": "stream",
     "text": [
      "This is Spain\n",
      "This is State\n"
     ]
    }
   ],
   "source": [
    "#1. Single Inheritance\n",
    "class Country:\n",
    "  def ShowCountry(self):\n",
    "    print(\"This is Spain\")\n",
    "class State(Country):\n",
    "  def ShowState(self):\n",
    "    print(\"This is State\")\n",
    "st=State();\n",
    "st.ShowCountry();\n",
    "st.ShowState()"
   ]
  },
  {
   "cell_type": "code",
   "execution_count": null,
   "metadata": {},
   "outputs": [
    {
     "name": "stdout",
     "output_type": "stream",
     "text": [
      "dog barking\n",
      "Animal Speaking\n",
      "Eating bread…\n"
     ]
    }
   ],
   "source": [
    "#2. multilevel inheritance\n",
    "\n",
    "class Animal:  \n",
    "    def speak(self):  \n",
    "        print(\"Animal Speaking\")  \n",
    "\n",
    "#The child class Dog inherits the base class Animal  \n",
    "class Dog(Animal):  \n",
    "    def bark(self):  \n",
    "        print(\"dog barking\")  \n",
    "\n",
    "#The child class Dogchild inherits another child class Dog  \n",
    "class DogChild(Dog):  \n",
    "    def eat(self):  \n",
    "        print(\"Eating bread…\")  \n",
    "\n",
    "d = DogChild()  \n",
    "d.bark()  \n",
    "d.speak()  \n",
    "d.eat() "
   ]
  },
  {
   "cell_type": "code",
   "execution_count": null,
   "metadata": {},
   "outputs": [
    {
     "name": "stdout",
     "output_type": "stream",
     "text": [
      "30\n",
      "200\n",
      "0.5\n"
     ]
    }
   ],
   "source": [
    "#3. multiple inheritances.\n",
    "\n",
    "class Calculation1:  \n",
    "    def Summation(self,a,b):  \n",
    "        return a+b;  \n",
    "class Calculation2:  \n",
    "    def Multiplication(self,a,b):  \n",
    "        return a*b;  \n",
    "class Derived(Calculation1,Calculation2):  \n",
    "    def Divide(self,a,b):  \n",
    "        return a/b;  \n",
    "d = Derived()  \n",
    "print(d.Summation(10,20))  \n",
    "print(d.Multiplication(10,20))  \n",
    "print(d.Divide(10,20))"
   ]
  },
  {
   "cell_type": "markdown",
   "metadata": {},
   "source": [
    "Q32.) Suppose class C inherits from classes A and B as class C(A,B).Classes A and B both have their own versions of method func(). If we call func() from an object of \n",
    "class C, which version gets invoked?"
   ]
  },
  {
   "cell_type": "markdown",
   "metadata": {},
   "source": [
    "Ans:) If we call func() from an object of class C, then the func() version from class A is invoked because class C inherits first from A since it follows the first class mentioned in the order i.e., C(A,B) meaning A is written before B here in C(A,B). From the following example, func() from A is displayed in the result when called from class C:"
   ]
  },
  {
   "cell_type": "code",
   "execution_count": null,
   "metadata": {},
   "outputs": [
    {
     "name": "stdout",
     "output_type": "stream",
     "text": [
      "Hello\n",
      "Name of the person =  Sam\n",
      "Age of the person =  20\n",
      "Code of the person =  1001\n",
      "Amma means Mother\n",
      "Name of the person =  Gamyam\n",
      "Name of the person =  Gamyam\n"
     ]
    }
   ],
   "source": [
    "class A:\n",
    "    def __init__(self,name):\n",
    "        self.person_name=name\n",
    "    def func(self):\n",
    "        print(\"Name of the person = \", self.person_name)\n",
    "class B:\n",
    "    def __init__(self, age):\n",
    "        self.person_age=age\n",
    "    def amma(self):\n",
    "        print(\"Amma means Mother\")\n",
    "    def func(self):\n",
    "        print(\"Age of the person = \", self.person_age)\n",
    "\n",
    "class C(A,B):\n",
    "    def __init__(self,code, name, age):\n",
    "        self.emp_code=code\n",
    "        print(\"Hello\")\n",
    "        A.__init__(self,name)\n",
    "        B.__init__(self,age)\n",
    "        #super().__init__(name)\n",
    "        #super().__init__(age)\n",
    "    def output(self):\n",
    "        print(\"Code of the person = \",self.emp_code)\n",
    "s1= A(\"Sam\")\n",
    "s2=B(20)\n",
    "s3=C(1001,\"Gamyam\", 40)\n",
    "s1.func()\n",
    "s2.func()\n",
    "s3.output()\n",
    "s3.amma()\n",
    "s3.func()\n",
    "s3.func()\n",
    "\n",
    "\n"
   ]
  },
  {
   "cell_type": "markdown",
   "metadata": {},
   "source": [
    "Q33.) Which methods/functions do we use to determine the type of instance and inheritance?"
   ]
  },
  {
   "cell_type": "markdown",
   "metadata": {},
   "source": [
    "Ans:) The isinstance() method checks whether an object is an instance of a class whereas issubclass() method asks whether one class is a subclass of another class (or other classes) to determine inheritance.\n",
    "1) isinstance(object, classinfo):\n",
    "Return true if the object argument is an instance of the classinfo argument, or of a (direct, indirect or virtual) subclass thereof.\n",
    "2) issubclass(class, classinfo):\n",
    "Return true if class is a subclass (direct, indirect or virtual) of classinfo. A class is considered a subclass of itself."
   ]
  },
  {
   "cell_type": "code",
   "execution_count": null,
   "metadata": {},
   "outputs": [
    {
     "name": "stdout",
     "output_type": "stream",
     "text": [
      "True\n",
      "True\n",
      "False\n"
     ]
    }
   ],
   "source": [
    "class MyClass(object):\n",
    "  pass\n",
    "class MySubClass(MyClass):\n",
    "  pass\n",
    "print(isinstance(MySubClass, object))\n",
    "print(issubclass(MySubClass, MyClass))\n",
    "print(isinstance(MySubClass, MyClass))"
   ]
  },
  {
   "cell_type": "markdown",
   "metadata": {},
   "source": [
    "Q34.) Explain the use of the 'nonlocal' keyword in Python."
   ]
  },
  {
   "cell_type": "markdown",
   "metadata": {},
   "source": [
    "Ans:) The nonlocal keyword is used to work with variables inside nested functions, where the variable should not belong to the inner function.\n",
    "Use the keyword nonlocal to declare that the variable is not local."
   ]
  },
  {
   "cell_type": "code",
   "execution_count": null,
   "metadata": {},
   "outputs": [
    {
     "name": "stdout",
     "output_type": "stream",
     "text": [
      "John\n"
     ]
    }
   ],
   "source": [
    "#without nonlocal keyword\n",
    "def myfunc1():\n",
    "  x = \"John\"\n",
    "  def myfunc2():\n",
    "    x = \"hello\"\n",
    "  myfunc2()\n",
    "  return x\n",
    "\n",
    "print(myfunc1())"
   ]
  },
  {
   "cell_type": "code",
   "execution_count": null,
   "metadata": {},
   "outputs": [
    {
     "name": "stdout",
     "output_type": "stream",
     "text": [
      "hello\n"
     ]
    }
   ],
   "source": [
    "#with nonlocal keyword\n",
    "def myfunc1():\n",
    "  x = \"John\"\n",
    "  def myfunc2():\n",
    "    nonlocal x\n",
    "    x = \"hello\"\n",
    "  myfunc2()\n",
    "  return x\n",
    "\n",
    "print(myfunc1())"
   ]
  },
  {
   "cell_type": "markdown",
   "metadata": {},
   "source": [
    "Q35.) What is the global keyword?"
   ]
  },
  {
   "cell_type": "markdown",
   "metadata": {},
   "source": [
    "Ans:) In Python, the global keyword allows us to modify the variable outside of the current scope.\n",
    "It is used to create a global variable and make changes to the variable in a local context."
   ]
  },
  {
   "cell_type": "code",
   "execution_count": null,
   "metadata": {},
   "outputs": [
    {
     "name": "stdout",
     "output_type": "stream",
     "text": [
      "1\n"
     ]
    }
   ],
   "source": [
    "#print global variable value within function\n",
    "\n",
    "c = 1 # global variable\n",
    "def add():\n",
    "    print(c)\n",
    "add()"
   ]
  },
  {
   "cell_type": "code",
   "execution_count": null,
   "metadata": {},
   "outputs": [
    {
     "ename": "UnboundLocalError",
     "evalue": "cannot access local variable 'c' where it is not associated with a value",
     "output_type": "error",
     "traceback": [
      "\u001b[1;31m---------------------------------------------------------------------------\u001b[0m",
      "\u001b[1;31mUnboundLocalError\u001b[0m                         Traceback (most recent call last)",
      "Cell \u001b[1;32mIn [281], line 7\u001b[0m\n\u001b[0;32m      5\u001b[0m     c \u001b[39m=\u001b[39m c \u001b[39m+\u001b[39m \u001b[39m2\u001b[39m\n\u001b[0;32m      6\u001b[0m     \u001b[39mprint\u001b[39m(c)\n\u001b[1;32m----> 7\u001b[0m add()\n",
      "Cell \u001b[1;32mIn [281], line 5\u001b[0m, in \u001b[0;36madd\u001b[1;34m()\u001b[0m\n\u001b[0;32m      3\u001b[0m \u001b[39mdef\u001b[39;00m \u001b[39madd\u001b[39m():\n\u001b[0;32m      4\u001b[0m      \u001b[39m# increment c by 2\u001b[39;00m\n\u001b[1;32m----> 5\u001b[0m     c \u001b[39m=\u001b[39m c \u001b[39m+\u001b[39m \u001b[39m2\u001b[39m\n\u001b[0;32m      6\u001b[0m     \u001b[39mprint\u001b[39m(c)\n",
      "\u001b[1;31mUnboundLocalError\u001b[0m: cannot access local variable 'c' where it is not associated with a value"
     ]
    }
   ],
   "source": [
    "# global variable: access and modify within the user defined function without using global keyword:We get ERROR\n",
    "c = 1 \n",
    "def add():\n",
    "     # increment c by 2\n",
    "    c = c + 2\n",
    "    print(c)\n",
    "add()"
   ]
  },
  {
   "cell_type": "code",
   "execution_count": null,
   "metadata": {},
   "outputs": [
    {
     "name": "stdout",
     "output_type": "stream",
     "text": [
      "3\n"
     ]
    }
   ],
   "source": [
    "# global variable: access and modify within the user defined function using global keyword\n",
    "c = 1 \n",
    "def add():\n",
    "# use of global keyword\n",
    "    global c\n",
    "    # increment c by 2\n",
    "    c = c + 2 \n",
    "    print(c)\n",
    "\n",
    "add()"
   ]
  }
 ],
 "metadata": {
  "kernelspec": {
   "display_name": "Python 3.11.0 64-bit",
   "language": "python",
   "name": "python3"
  },
  "language_info": {
   "codemirror_mode": {
    "name": "ipython",
    "version": 3
   },
   "file_extension": ".py",
   "mimetype": "text/x-python",
   "name": "python",
   "nbconvert_exporter": "python",
   "pygments_lexer": "ipython3",
   "version": "3.11.0"
  },
  "orig_nbformat": 4,
  "vscode": {
   "interpreter": {
    "hash": "318f2c383d48220c821fefd227250c35bb828f95042f5889a5ad1704b1baf79c"
   }
  }
 },
 "nbformat": 4,
 "nbformat_minor": 2
}
